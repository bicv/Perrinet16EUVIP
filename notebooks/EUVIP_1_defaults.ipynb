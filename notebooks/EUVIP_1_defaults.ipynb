{
 "cells": [
  {
   "cell_type": "markdown",
   "metadata": {},
   "source": [
    "## Initialization"
   ]
  },
  {
   "cell_type": "code",
   "execution_count": 1,
   "metadata": {
    "collapsed": false
   },
   "outputs": [],
   "source": [
    "%load_ext autoreload\n",
    "%autoreload 2"
   ]
  },
  {
   "cell_type": "code",
   "execution_count": 2,
   "metadata": {
    "collapsed": true
   },
   "outputs": [],
   "source": [
    "from __future__ import division, print_function\n",
    "%cd -q ../test/"
   ]
  },
  {
   "cell_type": "code",
   "execution_count": 3,
   "metadata": {
    "collapsed": false
   },
   "outputs": [],
   "source": [
    "import matplotlib\n",
    "pylab_defaults = { \n",
    "    'font.size': 12,\n",
    "    'xtick.labelsize':'medium',\n",
    "    'ytick.labelsize':'medium',\n",
    "    'text.usetex': False,\n",
    "    'font.family' : 'sans-serif',\n",
    "    'font.sans-serif' : ['Helvetica'],\n",
    "    }\n",
    "matplotlib.rcParams.update(pylab_defaults)\n",
    "\n",
    "%matplotlib inline\n",
    "import matplotlib.pyplot as plt\n",
    "%config InlineBackend.figure_format='retina'\n",
    "#%config InlineBackend.figure_format = 'svg'\n",
    "import os\n",
    "import numpy as np\n",
    "np.set_printoptions(precision=4, suppress=True)\n",
    "scale = 4\n",
    "scale = 1\n",
    "fig_width_pt = 244. * scale # Get this from LaTeX using \\showthe\\columnwidth\n",
    "inches_per_pt = 1.0/72.27               # Convert pt to inches\n",
    "fig_width = fig_width_pt*inches_per_pt  # width in inches\n",
    "#HACK for debugging\n",
    "#fig_width = 21\n",
    "figsize=(fig_width, .618*fig_width)"
   ]
  },
  {
   "cell_type": "markdown",
   "metadata": {},
   "source": [
    "To install the required libraries, use:\n",
    "\n",
    "````\n",
    "\n",
    "pip3 install --user git+https://github.com/bicv/SLIP\n",
    "pip3 install --user git+https://github.com/bicv/LogGabor\n",
    "pip3 install --user git+https://github.com/bicv/SparseEdges\n",
    "\n",
    "````"
   ]
  },
  {
   "cell_type": "code",
   "execution_count": 4,
   "metadata": {
    "collapsed": false
   },
   "outputs": [],
   "source": [
    "#figpath, ext = os.path.join(os.getenv('HOME'), 'pool/science/RetinaClouds/2016-05-20_nips'), '.pdf'\n",
    "figpath = '.'\n",
    "try:\n",
    "    os.mkdir(figpath)\n",
    "except:\n",
    "    pass\n",
    "\n",
    "experiment = 'EUVIP-sparseness'\n",
    "name_database = 'serre07_distractors'\n",
    "parameter_file = 'https://raw.githubusercontent.com/bicv/SparseEdges/master/default_param.py'\n",
    "lena_file = 'https://raw.githubusercontent.com/bicv/SparseEdges/master/database/lena256.png'\n",
    "N_image = 100\n",
    "N = 2**12\n",
    "do_linear = False\n",
    "do_linear = True"
   ]
  },
  {
   "cell_type": "markdown",
   "metadata": {},
   "source": [
    "defining framework\n"
   ]
  },
  {
   "cell_type": "code",
   "execution_count": 5,
   "metadata": {
    "collapsed": false
   },
   "outputs": [
    {
     "name": "stdout",
     "output_type": "stream",
     "text": [
      "Range of spatial frequencies:  [ 0.618   0.382   0.2361  0.1459  0.0902  0.0557  0.0344  0.0213]\n"
     ]
    }
   ],
   "source": [
    "from SparseEdges import SparseEdges\n",
    "mp = SparseEdges(parameter_file)\n",
    "mp.pe.N_X, mp.pe.N_Y = 64, 64\n",
    "mp.pe.formats = ['pdf', 'png']\n",
    "mp.init()\n",
    "print ('Range of spatial frequencies: ', mp.sf_0)"
   ]
  },
  {
   "cell_type": "markdown",
   "metadata": {},
   "source": [
    "Standard edges are oriented, but one may modify that:"
   ]
  },
  {
   "cell_type": "code",
   "execution_count": 6,
   "metadata": {
    "collapsed": false
   },
   "outputs": [
    {
     "data": {
      "image/png": "[encoded data removed]",
      "text/plain": [
       "<matplotlib.figure.Figure at 0x11649fe48>"
      ]
     },
     "metadata": {
      "image/png": {
       "height": 155,
       "width": 323
      }
     },
     "output_type": "display_data"
    }
   ],
   "source": [
    "if \"__file__\" not in dir():\n",
    "    sf_0 = .09 # TODO .1 cycle / pixel (Geisler)\n",
    "    params= {'sf_0':sf_0, 'B_sf': mp.pe.B_sf, 'theta':np.pi, 'B_theta': mp.pe.B_theta}\n",
    "    FT_lg = mp.loggabor(mp.pe.N_X/2, mp.pe.N_Y/2, **params)\n",
    "    #(fourier_domain(mp.normalize(np.absolute(FT_lg), center=False))+ image_domain(mp.normalize(mp.invert(FT_lg), center=False)))\n",
    "    fig, a1, a2 = mp.show_FT(FT_lg, axis=True, figsize=(fig_width, fig_width/2))\n",
    "    fig.tight_layout()\n",
    "    mp.savefig(fig, experiment + '_loggabor')"
   ]
  },
  {
   "cell_type": "markdown",
   "metadata": {},
   "source": [
    "When defining the framework, one defines different angles:"
   ]
  },
  {
   "cell_type": "code",
   "execution_count": 7,
   "metadata": {
    "collapsed": false,
    "scrolled": true
   },
   "outputs": [
    {
     "name": "stdout",
     "output_type": "stream",
     "text": [
      "Range of angles (in degrees):  [-82.5 -75.  -67.5 -60.  -52.5 -45.  -37.5 -30.  -22.5 -15.   -7.5   0.\n",
      "   7.5  15.   22.5  30.   37.5  45.   52.5  60.   67.5  75.   82.5  90. ]\n"
     ]
    }
   ],
   "source": [
    "print ('Range of angles (in degrees): ', mp.theta*180./np.pi)"
   ]
  },
  {
   "cell_type": "code",
   "execution_count": 8,
   "metadata": {
    "collapsed": false,
    "scrolled": true
   },
   "outputs": [
    {
     "name": "stdout",
     "output_type": "stream",
     "text": [
      "Final sparseness in the representation = 0.0026041666666666665\n",
      "Final sparseness in the pyramid = 0.375\n"
     ]
    }
   ],
   "source": [
    "print('Final sparseness in the representation = {}'.format(mp.pe.N/mp.oc))\n",
    "print('Final sparseness in the pyramid = {}'.format(mp.pe.N/(4/3*mp.pe.N_X*mp.pe.N_Y)))"
   ]
  },
  {
   "cell_type": "code",
   "execution_count": 9,
   "metadata": {
    "collapsed": true
   },
   "outputs": [],
   "source": [
    "%cd -q ../notebooks/"
   ]
  }
 ],
 "metadata": {
  "kernelspec": {
   "display_name": "Python 3",
   "language": "python",
   "name": "python3"
  },
  "language_info": {
   "codemirror_mode": {
    "name": "ipython",
    "version": 3
   },
   "file_extension": ".py",
   "mimetype": "text/x-python",
   "name": "python",
   "nbconvert_exporter": "python",
   "pygments_lexer": "ipython3",
   "version": "3.6.0"
  }
 },
 "nbformat": 4,
 "nbformat_minor": 0
}
